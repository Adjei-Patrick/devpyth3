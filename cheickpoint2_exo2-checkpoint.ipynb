{
 "cells": [
  {
   "cell_type": "code",
   "execution_count": 23,
   "id": "61508989",
   "metadata": {},
   "outputs": [
    {
     "name": "stdout",
     "output_type": "stream",
     "text": [
      "le resultat obtenu est : 615\n"
     ]
    }
   ],
   "source": [
    "#écrire un programme qui permert d'obtenir 615\n",
    "n = 5\n",
    "nn = 55\n",
    "nnn = 555\n",
    "n = n + (nn) + (nnn)\n",
    "print(\"le resultat obtenu est :\", n)"
   ]
  },
  {
   "cell_type": "code",
   "execution_count": null,
   "id": "664360d4",
   "metadata": {},
   "outputs": [],
   "source": []
  }
 ],
 "metadata": {
  "kernelspec": {
   "display_name": "Python 3 (ipykernel)",
   "language": "python",
   "name": "python3"
  },
  "language_info": {
   "codemirror_mode": {
    "name": "ipython",
    "version": 3
   },
   "file_extension": ".py",
   "mimetype": "text/x-python",
   "name": "python",
   "nbconvert_exporter": "python",
   "pygments_lexer": "ipython3",
   "version": "3.9.7"
  }
 },
 "nbformat": 4,
 "nbformat_minor": 5
}
